{
 "cells": [
  {
   "cell_type": "code",
   "execution_count": 2,
   "metadata": {},
   "outputs": [
    {
     "name": "stderr",
     "output_type": "stream",
     "text": [
      "<frozen importlib._bootstrap>:241: RuntimeWarning: scipy._lib.messagestream.MessageStream size changed, may indicate binary incompatibility. Expected 56 from C header, got 64 from PyObject\n"
     ]
    }
   ],
   "source": [
    "import pandas as pd\n",
    "import numpy as np\n",
    "import matplotlib.pyplot as plt\n",
    "from scipy import optimize\n",
    "\n",
    "import atmos"
   ]
  },
  {
   "cell_type": "code",
   "execution_count": 3,
   "metadata": {},
   "outputs": [],
   "source": [
    "def chuck_data_helper(save_name, column_names):\n",
    "    try:\n",
    "        df = pd.read_parquet(save_name)\n",
    "    except:\n",
    "        df = pd.read_clipboard(names=column_names)\n",
    "        df.to_parquet(save_name)\n",
    "    return df"
   ]
  },
  {
   "cell_type": "code",
   "execution_count": 38,
   "metadata": {},
   "outputs": [],
   "source": [
    "activity_df = chuck_data_helper(save_name='activity_data'\n",
    "                                , column_names=['time','distance','power','cadence','heartrate'\n",
    "                                                ,'speed','altitude','lat','long','slope'])\n",
    "activity_df['speed'] = activity_df['speed']*1000/60/60\n",
    "activity_df['acceleration'] = (activity_df['speed']-activity_df['speed'].shift(1))\n",
    "activity_df['time'] = activity_df['time'].apply(lambda x: int(x.replace(',','')))"
   ]
  },
  {
   "cell_type": "code",
   "execution_count": 39,
   "metadata": {},
   "outputs": [],
   "source": [
    "weather_df = chuck_data_helper(save_name='weather_data'\n",
    "                               , column_names=['Time','distance','TEMPERATURE','HUMIDITY'\n",
    "                                               ,'WINDSPEED','WINDDIRECTION','PRESSURE'])"
   ]
  },
  {
   "cell_type": "code",
   "execution_count": 40,
   "metadata": {},
   "outputs": [
    {
     "data": {
      "text/plain": [
       "0    0.571667\n",
       "1    0.571667\n",
       "2    0.571667\n",
       "3    0.571667\n",
       "4    0.571667\n",
       "5    0.571667\n",
       "Name: WINDSPEED, dtype: float64"
      ]
     },
     "execution_count": 40,
     "metadata": {},
     "output_type": "execute_result"
    }
   ],
   "source": [
    "weather_df['WINDSPEED']/3.6"
   ]
  },
  {
   "cell_type": "code",
   "execution_count": 41,
   "metadata": {},
   "outputs": [],
   "source": [
    "intervals = [\n",
    "#    (15*60+15,16*60+47)\n",
    "    (2*60+ 30, 3*60+ 24)\n",
    "    ,(8*60+ 9, 8*60+ 51)\n",
    "    ,(13*60+ 49, 14*60+ 29)\n",
    "    ,(24*60+ 18, 25*60+ 0)\n",
    "    ,(29*60+ 25, 30*60+ 7)\n",
    "]"
   ]
  },
  {
   "cell_type": "code",
   "execution_count": 42,
   "metadata": {},
   "outputs": [],
   "source": [
    "closest_weather_reading_idx = abs((weather_df['Time'] - intervals[0][0]) + (weather_df['Time'] - intervals[0][1])).argmin()\n",
    "closest_weather_reading = weather_df.loc[closest_weather_reading_idx]\n",
    "rho_inputs = {'p':closest_weather_reading['PRESSURE']\n",
    "             ,'T':273+closest_weather_reading['TEMPERATURE']\n",
    "             ,'RH':closest_weather_reading['HUMIDITY']/100}"
   ]
  },
  {
   "cell_type": "code",
   "execution_count": 43,
   "metadata": {},
   "outputs": [],
   "source": [
    "rho = atmos.calculate('rho', **rho_inputs)"
   ]
  },
  {
   "cell_type": "code",
   "execution_count": 44,
   "metadata": {},
   "outputs": [],
   "source": [
    "Crr = .0055\n",
    "CdA = .3\n",
    "athlete_mass = 84\n",
    "bike_mass = 7.60\n",
    "gear_mass = 1.50\n",
    "system_mass = athlete_mass + bike_mass + gear_mass\n",
    "gravity = 9.81"
   ]
  },
  {
   "cell_type": "code",
   "execution_count": 55,
   "metadata": {},
   "outputs": [],
   "source": [
    "def solve_power(Crr, m, g, v, s, a, CdA, rho, v_air):\n",
    "    Crr_comp = Crr * (m * g * v)\n",
    "    slope_comp = s * (m * g * v)\n",
    "    accel_comp = m * a * v\n",
    "    drag_comp = 0.5 * (CdA * rho * v_air**2 * v)\n",
    "    w = Crr_comp + slope_comp + accel_comp + drag_comp\n",
    "    return w\n",
    "\n",
    "def solve_power_nowind(Crr, m, g, v, a, CdA, rho, w):\n",
    "    s = w / (m*g*v) - Crr - a/g - (rho*CdA*v**2)/(2*m*g)\n",
    "    return s"
   ]
  },
  {
   "attachments": {},
   "cell_type": "markdown",
   "metadata": {},
   "source": [
    "## Test function & dataflow"
   ]
  },
  {
   "cell_type": "code",
   "execution_count": 56,
   "metadata": {},
   "outputs": [],
   "source": [
    "def interval_extract(data, interval_start, interval_end):\n",
    "    return data[(data['time'] >= interval_start) & (data['time'] <= interval_end)]"
   ]
  },
  {
   "cell_type": "code",
   "execution_count": 57,
   "metadata": {},
   "outputs": [
    {
     "name": "stdout",
     "output_type": "stream",
     "text": [
      "{'rho': 1.2032140833230747, 'system_mass': 93.1}\n"
     ]
    }
   ],
   "source": [
    "print({'rho':rho\n",
    "       ,'system_mass':system_mass\n",
    "       })"
   ]
  },
  {
   "cell_type": "code",
   "execution_count": 61,
   "metadata": {},
   "outputs": [
    {
     "data": {
      "text/plain": [
       "array([261.45174655, 261.45174655, 261.45174655, 261.45174655,\n",
       "       261.45174655, 261.45174655, 261.45174655, 261.45174655,\n",
       "       261.45174655, 261.45174655, 261.45174655, 261.45174655,\n",
       "       261.45174655, 261.45174655, 261.45174655, 261.45174655,\n",
       "       261.45174655, 261.45174655, 261.45174655, 261.45174655,\n",
       "       261.45174655, 261.45174655, 261.45174655, 261.45174655,\n",
       "       261.45174655, 261.45174655, 261.45174655, 261.45174655,\n",
       "       261.45174655, 261.45174655, 261.45174655, 261.45174655,\n",
       "       261.45174655, 261.45174655, 261.45174655, 261.45174655,\n",
       "       261.45174655, 261.45174655, 261.45174655, 261.45174655,\n",
       "       261.45174655, 261.45174655, 261.45174655, 261.45174655,\n",
       "       261.45174655, 261.45174655, 261.45174655, 261.45174655,\n",
       "       261.45174655, 261.45174655])"
      ]
     },
     "execution_count": 61,
     "metadata": {},
     "output_type": "execute_result"
    }
   ],
   "source": [
    "solve_power(Crr=.0055,\n",
    "            CdA=0.25,\n",
    "            m=system_mass,\n",
    "            g=gravity,\n",
    "            v=np.ones(50)*11.1,\n",
    "            s=np.zeros(50),\n",
    "            a=np.zeros(50),\n",
    "            rho=rho,\n",
    "            v_air=np.ones(50)*11.1)"
   ]
  },
  {
   "cell_type": "code",
   "execution_count": 53,
   "metadata": {},
   "outputs": [],
   "source": [
    "interval_num = 4\n",
    "\n",
    "interval_df = interval_extract(activity_df, interval_start=intervals[interval_num][0], interval_end=intervals[interval_num][1])\n",
    "results = {}\n",
    "for CdA in range(18,32):\n",
    "    CdA = CdA/100\n",
    "    # results[CdA] = solve_power_nowind(Crr=Crr, CdA=CdA, m=system_mass, g=gravity, v=interval_df['speed'], a=interval_df['acceleration'], rho=rho, w=interval_df['power']).cumsum()\n",
    "    results[CdA] = solve_power(Crr=Crr,\n",
    "                               CdA=CdA,\n",
    "                               m=system_mass,\n",
    "                               g=gravity,\n",
    "                               v=interval_df['speed'],\n",
    "                               s=activity_df['slope'],\n",
    "                               a=interval_df['acceleration'],\n",
    "                               rho=rho,\n",
    "                               v_air=interval_df['speed']\n",
    "    )\n",
    "# results['actual'] = interval_df['slope']"
   ]
  },
  {
   "cell_type": "code",
   "execution_count": 54,
   "metadata": {},
   "outputs": [
    {
     "data": {
      "text/plain": [
       "<AxesSubplot:>"
      ]
     },
     "execution_count": 54,
     "metadata": {},
     "output_type": "execute_result"
    },
    {
     "data": {
      "image/png": "[encoded data removed]",
      "text/plain": [
       "<Figure size 640x480 with 1 Axes>"
      ]
     },
     "metadata": {},
     "output_type": "display_data"
    }
   ],
   "source": [
    "pd.DataFrame(results).plot()"
   ]
  },
  {
   "cell_type": "code",
   "execution_count": null,
   "metadata": {},
   "outputs": [
    {
     "name": "stdout",
     "output_type": "stream",
     "text": [
      "0.3 0.005 8.680553653282097\n",
      "0.315 0.005 8.68132563566065\n",
      "0.3 0.00525 8.680803653282098\n",
      "0.285 0.00525 8.680031670903546\n",
      "0.2699999999999999 0.005375 8.679384688524992\n",
      "0.26999999999999985 0.0051249999999999985 8.679134688524993\n",
      "0.2549999999999998 0.0050624999999999976 8.678300206146442\n",
      "0.2249999999999997 0.005437499999999997 8.677131241389338\n",
      "0.18749999999999956 0.005656249999999996 8.675420035442956\n",
      "0.17249999999999943 0.005343749999999994 8.674335553064406\n",
      "0.15 0.005328124999999993 8.673161954496578\n",
      "0.15 0.005921874999999991 8.673755704496582\n",
      "0.15 0.005593749999999988 8.67342757949658\n",
      "0.15 0.004999999999999989 8.672833829496579\n",
      "0.15 0.004539062499999986 8.672372891996575\n",
      "0.15 0.004273437499999991 8.672107266996575\n",
      "0.15 0.004 8.671833829496576\n",
      "0.15 0.004 8.671833829496576\n",
      "0.15 0.004 8.671833829496576\n",
      "0.15 0.004 8.671833829496576\n",
      "       message: Optimization terminated successfully.\n",
      "       success: True\n",
      "        status: 0\n",
      "           fun: 8.671833829496576\n",
      "             x: [ 1.500e-01  4.000e-03]\n",
      "           nit: 11\n",
      "          nfev: 20\n",
      " final_simplex: (array([[ 1.500e-01,  4.000e-03],\n",
      "                       [ 1.500e-01,  4.000e-03],\n",
      "                       [ 1.500e-01,  4.000e-03]]), array([ 8.672e+00,  8.672e+00,  8.672e+00]))\n",
      "0.15\n",
      "0.004\n"
     ]
    }
   ],
   "source": [
    "interval_df = interval_extract(activity_df, interval_start=intervals[0][0], interval_end=intervals[0][1])\n",
    "\n",
    "def optimize_CdA(params):    \n",
    "    losses = []\n",
    "\n",
    "    pred_slope_change = solve_power_nowind(Crr=params[1], CdA=params[0], m=system_mass, g=gravity, v=interval_df['speed'], a=interval_df['acceleration'], rho=rho, w=interval_df['power'])\n",
    "    \n",
    "    losses = abs(activity_df['altitude'] - pred_slope_change)\n",
    "    MAE = np.mean(losses)\n",
    "    print(params[0], params[1], MAE)\n",
    "    return MAE\n",
    "                # CdA  Crr\n",
    "initial_guess  = [.3, .005]\n",
    "modeled_CdA = optimize.minimize(optimize_CdA\n",
    "                                ,x0=initial_guess\n",
    "                                        # CdA          Crr\n",
    "                                ,bounds=[(.15,0.40),(.004,0.007)]\n",
    "                                ,method='Nelder-Mead'\n",
    "                                ,tol=1e-4\n",
    "                                )\n",
    "print(modeled_CdA)\n",
    "for val in modeled_CdA['x']:\n",
    "    print(val)"
   ]
  },
  {
   "attachments": {},
   "cell_type": "markdown",
   "metadata": {},
   "source": [
    "## Bayes Solver"
   ]
  },
  {
   "cell_type": "code",
   "execution_count": null,
   "metadata": {},
   "outputs": [
    {
     "ename": "ModuleNotFoundError",
     "evalue": "No module named 'pymc'",
     "output_type": "error",
     "traceback": [
      "\u001b[0;31m---------------------------------------------------------------------------\u001b[0m",
      "\u001b[0;31mModuleNotFoundError\u001b[0m                       Traceback (most recent call last)",
      "\u001b[1;32m/Users/ryanduecker/git/athletics/GC-Utils/pyaero.ipynb Cell 17\u001b[0m in \u001b[0;36m1\n\u001b[0;32m----> <a href='vscode-notebook-cell:/Users/ryanduecker/git/athletics/GC-Utils/pyaero.ipynb#X30sZmlsZQ%3D%3D?line=0'>1</a>\u001b[0m \u001b[39mimport\u001b[39;00m \u001b[39mpymc\u001b[39;00m \u001b[39mas\u001b[39;00m \u001b[39mpm\u001b[39;00m\n\u001b[1;32m      <a href='vscode-notebook-cell:/Users/ryanduecker/git/athletics/GC-Utils/pyaero.ipynb#X30sZmlsZQ%3D%3D?line=1'>2</a>\u001b[0m \u001b[39mfrom\u001b[39;00m \u001b[39mpymc\u001b[39;00m \u001b[39mimport\u001b[39;00m HalfCauchy, Model, Normal, sample, Uniform, Beta\n\u001b[1;32m      <a href='vscode-notebook-cell:/Users/ryanduecker/git/athletics/GC-Utils/pyaero.ipynb#X30sZmlsZQ%3D%3D?line=3'>4</a>\u001b[0m \u001b[39mprint\u001b[39m(\u001b[39mf\u001b[39m\u001b[39m\"\u001b[39m\u001b[39mRunning on PyMC v\u001b[39m\u001b[39m{\u001b[39;00mpm\u001b[39m.\u001b[39m__version__\u001b[39m}\u001b[39;00m\u001b[39m\"\u001b[39m)\n",
      "\u001b[0;31mModuleNotFoundError\u001b[0m: No module named 'pymc'"
     ]
    }
   ],
   "source": [
    "import pymc as pm\n",
    "from pymc import HalfCauchy, Model, Normal, sample, Uniform, Beta\n",
    "\n",
    "print(f\"Running on PyMC v{pm.__version__}\")"
   ]
  },
  {
   "cell_type": "code",
   "execution_count": null,
   "metadata": {},
   "outputs": [
    {
     "name": "stdout",
     "output_type": "stream",
     "text": [
      "Collecting package metadata (current_repodata.json): done\n",
      "Solving environment: failed with initial frozen solve. Retrying with flexible solve.\n",
      "Solving environment: failed with repodata from current_repodata.json, will retry with next repodata source.\n",
      "Collecting package metadata (repodata.json): done\n",
      "Solving environment: done\n",
      "\n",
      "\n",
      "==> WARNING: A newer version of conda exists. <==\n",
      "  current version: 22.9.0\n",
      "  latest version: 23.3.1\n",
      "\n",
      "Please update conda by running\n",
      "\n",
      "    $ conda update -n base -c defaults conda\n",
      "\n",
      "\n",
      "\n",
      "## Package Plan ##\n",
      "\n",
      "  environment location: /Users/ryanduecker/opt/anaconda3/envs/analytics_310\n",
      "\n",
      "  added / updated specs:\n",
      "    - pymc\n",
      "\n",
      "\n",
      "The following packages will be downloaded:\n",
      "\n",
      "    package                    |            build\n",
      "    ---------------------------|-----------------\n",
      "    aeppl-0.0.27               |     pyhd8ed1ab_0          36 KB  conda-forge\n",
      "    aesara-2.5.1               |  py310hd17ff3b_0         2.3 MB  conda-forge\n",
      "    ca-certificates-2022.12.7  |       h033912b_0         142 KB  conda-forge\n",
      "    certifi-2022.12.7          |     pyhd8ed1ab_0         147 KB  conda-forge\n",
      "    cloudpickle-2.2.1          |     pyhd8ed1ab_0          27 KB  conda-forge\n",
      "    cons-0.4.5                 |     pyhd8ed1ab_0          13 KB  conda-forge\n",
      "    cxx-compiler-1.0.0         |       h04f5b5a_0           4 KB  conda-forge\n",
      "    etuples-0.3.8              |     pyhd8ed1ab_0          17 KB  conda-forge\n",
      "    libblas-3.9.0              |     12_osx64_mkl          12 KB  conda-forge\n",
      "    liblapack-3.9.0            |     12_osx64_mkl          12 KB  conda-forge\n",
      "    logical-unification-0.4.5  |     pyhd8ed1ab_0          16 KB  conda-forge\n",
      "    minikanren-1.0.3           |     pyhd8ed1ab_0          23 KB  conda-forge\n",
      "    multipledispatch-0.6.0     |             py_0          12 KB  conda-forge\n",
      "    openssl-1.1.1t             |       hfd90126_0         1.7 MB  conda-forge\n",
      "    pymc-4.0.0b6               |  py310h4714cba_0         919 KB  conda-forge\n",
      "    toolz-0.12.0               |     pyhd8ed1ab_0          48 KB  conda-forge\n",
      "    ------------------------------------------------------------\n",
      "                                           Total:         5.3 MB\n",
      "\n",
      "The following NEW packages will be INSTALLED:\n",
      "\n",
      "  aeppl              conda-forge/noarch::aeppl-0.0.27-pyhd8ed1ab_0 None\n",
      "  aesara             conda-forge/osx-64::aesara-2.5.1-py310hd17ff3b_0 None\n",
      "  cloudpickle        conda-forge/noarch::cloudpickle-2.2.1-pyhd8ed1ab_0 None\n",
      "  cons               conda-forge/noarch::cons-0.4.5-pyhd8ed1ab_0 None\n",
      "  cxx-compiler       conda-forge/osx-64::cxx-compiler-1.0.0-h04f5b5a_0 None\n",
      "  etuples            conda-forge/noarch::etuples-0.3.8-pyhd8ed1ab_0 None\n",
      "  libblas            conda-forge/osx-64::libblas-3.9.0-12_osx64_mkl None\n",
      "  liblapack          conda-forge/osx-64::liblapack-3.9.0-12_osx64_mkl None\n",
      "  logical-unificati~ conda-forge/noarch::logical-unification-0.4.5-pyhd8ed1ab_0 None\n",
      "  minikanren         conda-forge/noarch::minikanren-1.0.3-pyhd8ed1ab_0 None\n",
      "  multipledispatch   conda-forge/noarch::multipledispatch-0.6.0-py_0 None\n",
      "  pymc               conda-forge/osx-64::pymc-4.0.0b6-py310h4714cba_0 None\n",
      "  toolz              conda-forge/noarch::toolz-0.12.0-pyhd8ed1ab_0 None\n",
      "  xarray-einstats    conda-forge/noarch::xarray-einstats-0.5.1-pyhd8ed1ab_0 None\n",
      "\n",
      "The following packages will be UPDATED:\n",
      "\n",
      "  arviz                pkgs/main::arviz-0.11.2-pyhd3eb1b0_0 --> conda-forge::arviz-0.13.0-pyhd8ed1ab_0 None\n",
      "  openssl              pkgs/main::openssl-1.1.1s-hca72f7f_0 --> conda-forge::openssl-1.1.1t-hfd90126_0 None\n",
      "\n",
      "The following packages will be SUPERSEDED by a higher-priority channel:\n",
      "\n",
      "  ca-certificates    pkgs/main::ca-certificates-2023.01.10~ --> conda-forge::ca-certificates-2022.12.7-h033912b_0 None\n",
      "  certifi            pkgs/main/osx-64::certifi-2022.12.7-p~ --> conda-forge/noarch::certifi-2022.12.7-pyhd8ed1ab_0 None\n",
      "\n",
      "\n",
      "\n",
      "Downloading and Extracting Packages\n",
      "ca-certificates-2022 | 142 KB    | ##################################### | 100% \n",
      "pymc-4.0.0b6         | 919 KB    | ##################################### | 100% \n",
      "certifi-2022.12.7    | 147 KB    | ##################################### | 100% \n",
      "openssl-1.1.1t       | 1.7 MB    | ##################################### | 100% \n",
      "cons-0.4.5           | 13 KB     | ##################################### | 100% \n",
      "multipledispatch-0.6 | 12 KB     | ##################################### | 100% \n",
      "minikanren-1.0.3     | 23 KB     | ##################################### | 100% \n",
      "etuples-0.3.8        | 17 KB     | ##################################### | 100% \n",
      "cloudpickle-2.2.1    | 27 KB     | ##################################### | 100% \n",
      "liblapack-3.9.0      | 12 KB     | ##################################### | 100% \n",
      "logical-unification- | 16 KB     | ##################################### | 100% \n",
      "cxx-compiler-1.0.0   | 4 KB      | ##################################### | 100% \n",
      "aeppl-0.0.27         | 36 KB     | ##################################### | 100% \n",
      "libblas-3.9.0        | 12 KB     | ##################################### | 100% \n",
      "toolz-0.12.0         | 48 KB     | ##################################### | 100% \n",
      "aesara-2.5.1         | 2.3 MB    | ##################################### | 100% \n",
      "Preparing transaction: done\n",
      "Verifying transaction: done\n",
      "Executing transaction: done\n",
      "Retrieving notices: ...working... done\n"
     ]
    }
   ],
   "source": [
    "!conda install -c conda-forge pymc -y"
   ]
  },
  {
   "cell_type": "code",
   "execution_count": null,
   "metadata": {},
   "outputs": [],
   "source": []
  },
  {
   "cell_type": "code",
   "execution_count": null,
   "metadata": {},
   "outputs": [],
   "source": []
  }
 ],
 "metadata": {
  "kernelspec": {
   "display_name": "analytics_310",
   "language": "python",
   "name": "python3"
  },
  "language_info": {
   "codemirror_mode": {
    "name": "ipython",
    "version": 3
   },
   "file_extension": ".py",
   "mimetype": "text/x-python",
   "name": "python",
   "nbconvert_exporter": "python",
   "pygments_lexer": "ipython3",
   "version": "3.10.4"
  },
  "orig_nbformat": 4,
  "vscode": {
   "interpreter": {
    "hash": "e177e99c25e24d2ba440fb935951fdd116b2327d6989f447951d54cb857908f8"
   }
  }
 },
 "nbformat": 4,
 "nbformat_minor": 2
}

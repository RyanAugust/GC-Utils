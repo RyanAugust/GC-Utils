{
 "cells": [
  {
   "cell_type": "code",
   "execution_count": 1,
   "metadata": {},
   "outputs": [],
   "source": [
    "import pandas as pd\n",
    "import numpy as np\n",
    "import matplotlib.pyplot as plt\n",
    "import scipy\n",
    "\n",
    "import atmos"
   ]
  },
  {
   "cell_type": "code",
   "execution_count": 3,
   "metadata": {},
   "outputs": [],
   "source": [
    "activity_df = pd.read_clipboard(names=['time','distance','power','cadence','heartrate','speed','altitude','lat','long','slope'])\n",
    "activity_df['speed'] = activity_df['speed']*1000/60/60\n",
    "activity_df['acceleration'] = (activity_df['speed']-activity_df['speed'].shift(1))"
   ]
  },
  {
   "cell_type": "code",
   "execution_count": 2,
   "metadata": {},
   "outputs": [],
   "source": [
    "weather_df = pd.read_clipboard(names=['Time','distance','TEMPERATURE','HUMIDITY','WINDSPEED','WINDDIRECTION','PRESSURE'])"
   ]
  },
  {
   "cell_type": "code",
   "execution_count": 5,
   "metadata": {},
   "outputs": [],
   "source": [
    "activity_df.to_parquet('activity_data')\n",
    "weather_df.to_parquet('weather_data')"
   ]
  },
  {
   "cell_type": "code",
   "execution_count": 15,
   "metadata": {},
   "outputs": [],
   "source": [
    "intervals = [(15*60+15,16*60+47)]"
   ]
  },
  {
   "cell_type": "code",
   "execution_count": 31,
   "metadata": {},
   "outputs": [],
   "source": [
    "closest_weather_reading_idx = abs((weather_df['Time'] - intervals[0][0]) + (weather_df['Time'] - intervals[0][1])).argmin()\n",
    "closest_weather_reading = weather_df.loc[closest_weather_reading_idx]\n",
    "rho_inputs = {'p':closest_weather_reading['PRESSURE']\n",
    "             ,'T':273+closest_weather_reading['TEMPERATURE']\n",
    "             ,'RH':closest_weather_reading['HUMIDITY']/100}"
   ]
  },
  {
   "cell_type": "code",
   "execution_count": 33,
   "metadata": {},
   "outputs": [],
   "source": [
    "rho = atmos.calculate('rho', **rho_inputs)"
   ]
  },
  {
   "cell_type": "code",
   "execution_count": 52,
   "metadata": {},
   "outputs": [],
   "source": [
    "Crr = .005\n",
    "CdA = .3\n",
    "athlete_mass = 84\n",
    "bike_mass = 7.6\n",
    "gear_mass = 1.5\n",
    "system_mass = athlete_mass + bike_mass + gear_mass\n",
    "gravity = 9.81"
   ]
  },
  {
   "cell_type": "code",
   "execution_count": 53,
   "metadata": {},
   "outputs": [],
   "source": [
    "def solve_power(Crr, m, g, v, s, a, CdA, rho, v_air):\n",
    "\n",
    "    return w\n",
    "def solve_power_nowind(Crr, m, g, v, a, CdA, rho, w):\n",
    "    s = w / (m*g*v) - Crr - a/g - (rho*CdA*v**2)/(2*m*g)\n",
    "    return s"
   ]
  },
  {
   "attachments": {},
   "cell_type": "markdown",
   "metadata": {},
   "source": [
    "## Test function & dataflow"
   ]
  },
  {
   "cell_type": "code",
   "execution_count": 61,
   "metadata": {},
   "outputs": [],
   "source": [
    "pred_slope_change = solve_power_nowind(Crr=Crr, CdA=CdA, m=system_mass, g=gravity, v=activity_df['speed'], a=activity_df['acceleration'], rho=rho, w=activity_df['power'])\n",
    "pred_elevation = pred_slope_change.fillna(0).cumsum()\n",
    "pred_elevation.plot()"
   ]
  },
  {
   "cell_type": "code",
   "execution_count": 63,
   "metadata": {},
   "outputs": [
    {
     "data": {
      "text/plain": [
       "<AxesSubplot:>"
      ]
     },
     "execution_count": 63,
     "metadata": {},
     "output_type": "execute_result"
    },
    {
     "data": {
      "image/png": "[encoded data removed]",
      "text/plain": [
       "<Figure size 640x480 with 1 Axes>"
      ]
     },
     "metadata": {},
     "output_type": "display_data"
    }
   ],
   "source": [
    "pred_elevation.plot()"
   ]
  },
  {
   "cell_type": "code",
   "execution_count": 68,
   "metadata": {},
   "outputs": [
    {
     "name": "stdout",
     "output_type": "stream",
     "text": [
      "8.598969351612796\n",
      "8.598969352077331\n",
      "8.598969361612792\n",
      "8.595811348157982\n",
      "8.59581134862254\n",
      "8.595811358158002\n",
      "8.59365323742604\n",
      "8.593653237890607\n",
      "8.59365324742605\n",
      "8.591001083035739\n",
      "8.591001083500302\n",
      "8.591001093035752\n",
      "      fun: 8.591001083035739\n",
      " hess_inv: <2x2 LbfgsInvHessProduct with dtype=float64>\n",
      "      jac: array([0.04645635, 1.00000133])\n",
      "  message: 'CONVERGENCE: NORM_OF_PROJECTED_GRADIENT_<=_PGTOL'\n",
      "     nfev: 12\n",
      "      nit: 2\n",
      "     njev: 4\n",
      "   status: 0\n",
      "  success: True\n",
      "        x: array([0.15 , 0.004])\n",
      "0.15000000000000002\n",
      "0.004\n"
     ]
    }
   ],
   "source": [
    "def optimize_CdA(params):    \n",
    "    losses = []\n",
    "\n",
    "    pred_slope_change = solve_power_nowind(Crr=params[1], CdA=params[0], m=system_mass, g=gravity, v=activity_df['speed'], a=activity_df['acceleration'], rho=rho, w=activity_df['power'])\n",
    "    \n",
    "    losses = abs(activity_df['altitude'] - pred_slope_change)\n",
    "    MAE = np.mean(losses)\n",
    "    print(MAE)\n",
    "    return MAE\n",
    "                # CdA  Crr\n",
    "initial_guess  = [.3, .005]\n",
    "modeled_CdA = scipy.optimize.minimize(optimize_CdA\n",
    "                                            ,x0=initial_guess\n",
    "                                                    # CdA          Crr\n",
    "                                            ,bounds=[(.15,0.40),(.004,0.007)]\n",
    "                                            # ,method='Nelder-Mead'\n",
    "                                            # ,tol=1e-8\n",
    "                                            )\n",
    "print(modeled_CdA)\n",
    "for val in modeled_CdA['x']:\n",
    "    print(val)"
   ]
  },
  {
   "cell_type": "code",
   "execution_count": null,
   "metadata": {},
   "outputs": [],
   "source": []
  }
 ],
 "metadata": {
  "kernelspec": {
   "display_name": "analysis_310",
   "language": "python",
   "name": "python3"
  },
  "language_info": {
   "codemirror_mode": {
    "name": "ipython",
    "version": 3
   },
   "file_extension": ".py",
   "mimetype": "text/x-python",
   "name": "python",
   "nbconvert_exporter": "python",
   "pygments_lexer": "ipython3",
   "version": "3.10.4"
  },
  "orig_nbformat": 4
 },
 "nbformat": 4,
 "nbformat_minor": 2
}
